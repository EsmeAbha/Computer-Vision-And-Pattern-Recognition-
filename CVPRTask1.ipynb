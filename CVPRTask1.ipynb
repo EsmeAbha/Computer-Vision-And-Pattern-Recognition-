{
  "nbformat": 4,
  "nbformat_minor": 0,
  "metadata": {
    "colab": {
      "provenance": []
    },
    "kernelspec": {
      "name": "python3",
      "display_name": "Python 3"
    },
    "language_info": {
      "name": "python"
    }
  },
  "cells": [
    {
      "cell_type": "code",
      "execution_count": 1,
      "metadata": {
        "colab": {
          "base_uri": "https://localhost:8080/"
        },
        "id": "UC3JQNx3lfGq",
        "outputId": "8abc44e0-d3c0-47ad-8087-284a02176070"
      },
      "outputs": [
        {
          "output_type": "stream",
          "name": "stdout",
          "text": [
            "Previous List: [1, 2, 3, 4, 5, 6, 7, 8, 9, 10]\n",
            "Squared List: [1, 4, 9, 16, 25, 36, 49, 64, 81, 100]\n",
            "Sum: 385\n"
          ]
        }
      ],
      "source": [
        "# Creating list\n",
        "l1 = list(range(1, 11))\n",
        "\n",
        "squared = [n**2 for n in l1]\n",
        "\n",
        "# summation\n",
        "sum = sum(squared)\n",
        "\n",
        "print(\"Previous List:\", l1)\n",
        "print(\"Squared List:\", squared)\n",
        "print(\"Sum:\", sum)\n"
      ]
    },
    {
      "cell_type": "code",
      "source": [
        "# Creating tuple\n",
        "t1=tuple(i for i in range(2,12,2))\n",
        "\n",
        "# Finding the product\n",
        "p=1\n",
        "for i in t1:\n",
        "    p *=1\n",
        "\n",
        "# Print\n",
        "print(\"Even Numbers Tuple:\", t1)\n",
        "print(\"Product of Elements:\", p)\n"
      ],
      "metadata": {
        "colab": {
          "base_uri": "https://localhost:8080/"
        },
        "id": "lkb-wBtKmGeA",
        "outputId": "90142718-128f-40de-e94d-60525fe23e68"
      },
      "execution_count": 4,
      "outputs": [
        {
          "output_type": "stream",
          "name": "stdout",
          "text": [
            "Even Numbers Tuple: (2, 4, 6, 8, 10)\n",
            "Product of Elements: 1\n"
          ]
        }
      ]
    },
    {
      "cell_type": "code",
      "source": [
        "# two set\n",
        "o1 = set(i for i in range(3, 10, 2))\n",
        "o2 = set(i for i in range(1, 10, 2))\n",
        "\n",
        "# union\n",
        "union = o1.union(o2)\n",
        "print(\"Union :\", union)\n",
        "\n",
        "# intersection\n",
        "intersec = o1.intersection(o2)\n",
        "print(\"Intersection:\", intersec)\n",
        "\n"
      ],
      "metadata": {
        "colab": {
          "base_uri": "https://localhost:8080/"
        },
        "id": "ouXFpuejm81X",
        "outputId": "ccc118ab-acf6-4819-e0de-7026e1690f64"
      },
      "execution_count": 5,
      "outputs": [
        {
          "output_type": "stream",
          "name": "stdout",
          "text": [
            "Union : {1, 3, 5, 7, 9}\n",
            "Intersection: {9, 3, 5, 7}\n"
          ]
        }
      ]
    },
    {
      "cell_type": "code",
      "source": [
        "# alphabet dictionary\n",
        "alphadict = {}\n",
        "for char in 'abcde':\n",
        "    alphadict[char] = ord(char)\n",
        "\n",
        "print(\"Alphabet Dictionary:\", alphadict)\n"
      ],
      "metadata": {
        "colab": {
          "base_uri": "https://localhost:8080/"
        },
        "id": "8txDDYxgnoYx",
        "outputId": "b5925c91-db97-43a2-b3bc-32224c5773e9"
      },
      "execution_count": 6,
      "outputs": [
        {
          "output_type": "stream",
          "name": "stdout",
          "text": [
            "Alphabet Dictionary: {'a': 97, 'b': 98, 'c': 99, 'd': 100, 'e': 101}\n"
          ]
        }
      ]
    },
    {
      "cell_type": "code",
      "source": [
        "def square(x):\n",
        "    return x*x\n",
        "#lambda function\n",
        "l1 = list(range(1, 11))\n",
        "squared = list(map(lambda x: square(x), l1))\n",
        "\n",
        "\n",
        "print(\"Original List:\", l1)\n",
        "print(\"Squared Result:\", squared)\n"
      ],
      "metadata": {
        "colab": {
          "base_uri": "https://localhost:8080/"
        },
        "id": "s345VzRLoBX0",
        "outputId": "06cfd43b-7367-4c71-ea7e-1f6b537ce907"
      },
      "execution_count": 7,
      "outputs": [
        {
          "output_type": "stream",
          "name": "stdout",
          "text": [
            "Original List: [1, 2, 3, 4, 5, 6, 7, 8, 9, 10]\n",
            "Squared Result: [1, 4, 9, 16, 25, 36, 49, 64, 81, 100]\n"
          ]
        }
      ]
    }
  ]
}