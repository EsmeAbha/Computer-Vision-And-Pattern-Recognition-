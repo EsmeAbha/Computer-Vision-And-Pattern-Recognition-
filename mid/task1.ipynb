{
  "nbformat": 4,
  "nbformat_minor": 0,
  "metadata": {
    "colab": {
      "provenance": []
    },
    "kernelspec": {
      "name": "python3",
      "display_name": "Python 3"
    },
    "language_info": {
      "name": "python"
    }
  },
  "cells": [
    {
      "cell_type": "code",
      "execution_count": 1,
      "metadata": {
        "colab": {
          "base_uri": "https://localhost:8080/"
        },
        "id": "UC3JQNx3lfGq",
        "outputId": "8abc44e0-d3c0-47ad-8087-284a02176070"
      },
      "outputs": [
        {
          "output_type": "stream",
          "name": "stdout",
          "text": [
            "Previous List: [1, 2, 3, 4, 5, 6, 7, 8, 9, 10]\n",
            "Squared List: [1, 4, 9, 16, 25, 36, 49, 64, 81, 100]\n",
            "Sum: 385\n"
          ]
        }
      ],
      "source": [
        "# Creating list\n",
        "l1=list(range(1, 11))\n",
        "\n",
        "squared=[n**2 for n in l1]\n",
        "\n",
        "# summation\n",
        "sum=sum(squared)\n",
        "\n",
        "print(\"Previous List:\", l1)\n",
        "print(\"Squared List:\", squared)\n",
        "print(\"Sum:\", sum)\n"
      ]
    },
    {
      "cell_type": "code",
      "source": [
        "# Creating tuple\n",
        "t1=tuple(i for i in range(2,12,2))\n",
        "\n",
        "# Finding the product\n",
        "p=1\n",
        "for i in t1:\n",
        "    p *=i\n",
        "\n",
        "# Print\n",
        "print(\"Even Numbers Tuple:\", t1)\n",
        "print(\"Product of Elements:\", p)\n"
      ],
      "metadata": {
        "colab": {
          "base_uri": "https://localhost:8080/"
        },
        "id": "lkb-wBtKmGeA",
        "outputId": "87b7a1bc-5687-4743-f13f-8176f303b16c"
      },
      "execution_count": 8,
      "outputs": [
        {
          "output_type": "stream",
          "name": "stdout",
          "text": [
            "Even Numbers Tuple: (2, 4, 6, 8, 10)\n",
            "Product of Elements: 3840\n"
          ]
        }
      ]
    },
    {
      "cell_type": "code",
      "source": [
        "# two set\n",
        "o1=set(i for i in range(3, 10, 2))\n",
        "o2=set(i for i in range(1, 10, 2))\n",
        "\n",
        "# union\n",
        "union=o1.union(o2)\n",
        "print(\"Union :\", union)\n",
        "\n",
        "# intersection\n",
        "intersec=o1.intersection(o2)\n",
        "print(\"Intersection:\", intersec)\n",
        "\n"
      ],
      "metadata": {
        "colab": {
          "base_uri": "https://localhost:8080/"
        },
        "id": "ouXFpuejm81X",
        "outputId": "ccc118ab-acf6-4819-e0de-7026e1690f64"
      },
      "execution_count": 5,
      "outputs": [
        {
          "output_type": "stream",
          "name": "stdout",
          "text": [
            "Union : {1, 3, 5, 7, 9}\n",
            "Intersection: {9, 3, 5, 7}\n"
          ]
        }
      ]
    },
    {
      "cell_type": "code",
      "source": [
        "# alphabet dictionary\n",
        "alphadict={}\n",
        "for c in 'abcde':\n",
        "    alphadict[c]=ord(c)\n",
        "\n",
        "print(\"Alphabet Dictionary:\", alphadict)\n"
      ],
      "metadata": {
        "colab": {
          "base_uri": "https://localhost:8080/"
        },
        "id": "8txDDYxgnoYx",
        "outputId": "a7b11748-342d-47da-9fab-549bf4576c22"
      },
      "execution_count": 9,
      "outputs": [
        {
          "output_type": "stream",
          "name": "stdout",
          "text": [
            "Alphabet Dictionary: {'a': 97, 'b': 98, 'c': 99, 'd': 100, 'e': 101}\n"
          ]
        }
      ]
    },
    {
      "cell_type": "code",
      "source": [
        "def square(x):\n",
        "    return x*x\n",
        "#lambda function\n",
        "l1=list(range(1, 11))\n",
        "squared=list(map(lambda x: square(x), l1))\n",
        "\n",
        "\n",
        "print(\"Original List:\", l1)\n",
        "print(\"Squared Result:\", squared)\n"
      ],
      "metadata": {
        "colab": {
          "base_uri": "https://localhost:8080/"
        },
        "id": "s345VzRLoBX0",
        "outputId": "cc33be5e-16f1-40d3-ebea-44989be3bc3e"
      },
      "execution_count": 10,
      "outputs": [
        {
          "output_type": "stream",
          "name": "stdout",
          "text": [
            "Original List: [1, 2, 3, 4, 5, 6, 7, 8, 9, 10]\n",
            "Squared Result: [1, 4, 9, 16, 25, 36, 49, 64, 81, 100]\n"
          ]
        }
      ]
    }
  ]
}